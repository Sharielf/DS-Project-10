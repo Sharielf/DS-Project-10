{
 "cells": [
  {
   "attachments": {},
   "cell_type": "markdown",
   "metadata": {},
   "source": [
    "# Task 5 #\n",
    "=========="
   ]
  },
  {
   "attachments": {},
   "cell_type": "markdown",
   "metadata": {},
   "source": [
    "Итак... давай, наконец, выясним, повлияло ли посещение ленты новостей на поведение учащихся. Приступили ли они в итоге к работе над лабораторным заданием раньше? Помни, что у нас есть две подготовленные таблицы в базе данных: test и control. Мы выполним нечто, похожее на A/B-тестирование. Чтобы обнаружить эффект, нам нужно вычислить значение дельты (период времени между датой первого коммита и сроком сдачи лабораторного задания) до того момента, когда учащиеся впервые посетили страницу с лентой новостей, и после этого. Мы должны сделать то же самое и для контрольной группы.\n",
    "\n",
    "Другими словами, каждый пользователь из тестовой таблицы имеет свою собственную временную метку для первого посещения новостной ленты. Мы хотим вычислить среднее значение дельты (разницу между датой первого коммита и сроком сдачи) до этой временной метки и после нее. Мы сделаем то же самое для пользователей в контрольной группе. Ты можешь сказать: «Но они вообще не посещали ленту новостей». Это так, и ранее мы решили использовать среднюю временную метку первого просмотра пользователями тестовой группы для пользователей контрольной группы.\n",
    "\n",
    "Если значение дельты перед первым посещением ленты новостей значительно отличается от этого показателя после первого посещения в тестовой группе, и мы не видим аналогичного эффекта в контрольной группе, значит, создание страницы с новостной лентой было отличной идеей. Мы можем распространить эту практику на всю группу.\n",
    "\n",
    "Подробное описание:"
   ]
  },
  {
   "cell_type": "code",
   "execution_count": 1,
   "metadata": {},
   "outputs": [],
   "source": [
    "import sqlite3\n",
    "import pandas as pd"
   ]
  },
  {
   "attachments": {},
   "cell_type": "markdown",
   "metadata": {},
   "source": [
    "## Создай соединение с базой данных с помощью библиотеки sqlite3. ##\n",
    "----------"
   ]
  },
  {
   "cell_type": "code",
   "execution_count": 2,
   "metadata": {},
   "outputs": [],
   "source": [
    "conn = sqlite3.connect(\"../data/checking-logs.sqlite\")\n",
    "cursor = conn.cursor()"
   ]
  },
  {
   "cell_type": "code",
   "execution_count": 3,
   "metadata": {},
   "outputs": [
    {
     "name": "stdout",
     "output_type": "stream",
     "text": [
      "[('pageviews',), ('checker',), ('deadlines',), ('datamart',), ('control',), ('test',)]\n"
     ]
    }
   ],
   "source": [
    "# посмотреть на таблицы в базе данных\n",
    "cursor.execute(\"SELECT name FROM sqlite_master WHERE type='table';\")\n",
    "print(cursor.fetchall())"
   ]
  },
  {
   "cell_type": "code",
   "execution_count": 4,
   "metadata": {},
   "outputs": [
    {
     "name": "stdout",
     "output_type": "stream",
     "text": [
      "[(0, 'uid', 'TEXT', 0, None, 0), (1, 'labname', 'TEXT', 0, None, 0), (2, 'first_commit_ts', 'TIMESTAMP', 0, None, 0), (3, 'first_view_ts', 'TIMESTAMP', 0, None, 0)]\n"
     ]
    }
   ],
   "source": [
    "cursor.execute(\"PRAGMA table_info(test);\")\n",
    "print(cursor.fetchall())"
   ]
  },
  {
   "cell_type": "code",
   "execution_count": 5,
   "metadata": {},
   "outputs": [
    {
     "name": "stdout",
     "output_type": "stream",
     "text": [
      "[(0, 'uid', 'TEXT', 0, None, 0), (1, 'labname', 'TEXT', 0, None, 0), (2, 'first_commit_ts', 'TIMESTAMP', 0, None, 0), (3, 'first_view_ts', 'TIMESTAMP', 0, None, 0)]\n"
     ]
    }
   ],
   "source": [
    "cursor.execute(\"PRAGMA table_info(control);\")\n",
    "print(cursor.fetchall())"
   ]
  },
  {
   "attachments": {},
   "cell_type": "markdown",
   "metadata": {},
   "source": [
    "## Используя только один запрос для каждой из групп, создай два датафрейма: test_results и control_results со столбцами time и avg_diff и только двумя строками. ##\n",
    "-------"
   ]
  },
  {
   "attachments": {},
   "cell_type": "markdown",
   "metadata": {},
   "source": [
    "* times должно иметь значения before и after.\n",
    "* avg_diff содержит среднее значение дельты для всех пользователей за период времени до первого посещения ленты новостей каждым из них и после этого.\n",
    "* Учитываются только те пользователи, для которых имеются наблюдения и before, и after.\n",
    "* Мы по-прежнему не используем лабораторное задание 'project1'."
   ]
  },
  {
   "cell_type": "code",
   "execution_count": 6,
   "metadata": {},
   "outputs": [],
   "source": [
    "# Создаем запрос для test\n",
    "test_query = f\"\"\" SELECT time, AVG( avg_diff)\n",
    "            FROM (\n",
    "                    SELECT uid, labname,\n",
    "                            AVG((strftime('%s', first_commit_ts) - deadlines)/60/60) AS  avg_diff,\n",
    "                            CASE\n",
    "                                WHEN ((strftime('%s', first_commit_ts)) - strftime('%s', first_view_ts)) < 0\n",
    "                                THEN \"before\" ELSE \"after\"\n",
    "                            END AS time\n",
    "                    FROM test\n",
    "                    LEFT JOIN deadlines \n",
    "                    ON test.labname = deadlines.labs\n",
    "                    WHERE labname != \"project1\"\n",
    "                    GROUP BY uid, time\n",
    "                )\n",
    "            WHERE uid IN (\n",
    "                            SELECT uid\n",
    "                            FROM (\n",
    "                                    SELECT uid,\n",
    "                                            CASE\n",
    "                                                WHEN ((strftime('%s', first_commit_ts)) - strftime('%s', first_view_ts)) < 0\n",
    "                                                THEN \"before\" ELSE \"after\"\n",
    "                                            END AS time\n",
    "                                    FROM test\n",
    "                            LEFT JOIN deadlines \n",
    "                            ON test.labname = deadlines.labs\n",
    "                            WHERE labname !=\"project1\"\n",
    "                            GROUP BY uid, time\n",
    "                                    )\n",
    "            GROUP BY uid\n",
    "            HAVING COUNT(uid) == 2\n",
    "                            )\n",
    "GROUP BY time\"\"\""
   ]
  },
  {
   "cell_type": "code",
   "execution_count": 7,
   "metadata": {},
   "outputs": [],
   "source": [
    "# Создаем запрос для control\n",
    "control_query = f\"\"\" SELECT time, AVG( avg_diff)\n",
    "            FROM (\n",
    "                    SELECT uid, labname,\n",
    "                            AVG((strftime('%s', first_commit_ts) - deadlines)/60/60) AS  avg_diff,\n",
    "                            CASE\n",
    "                                WHEN ((strftime('%s', first_commit_ts)) - strftime('%s', first_view_ts)) < 0\n",
    "                                THEN \"before\" ELSE \"after\"\n",
    "                            END AS time\n",
    "                    FROM control\n",
    "                    LEFT JOIN deadlines \n",
    "                    ON control.labname = deadlines.labs\n",
    "                    WHERE labname != \"project1\"\n",
    "                    GROUP BY uid, time\n",
    "                )\n",
    "            WHERE uid IN (\n",
    "                            SELECT uid\n",
    "                            FROM (\n",
    "                                    SELECT uid,\n",
    "                                            CASE\n",
    "                                                WHEN ((strftime('%s', first_commit_ts)) - strftime('%s', first_view_ts)) < 0\n",
    "                                                THEN \"before\" ELSE \"after\"\n",
    "                                            END AS time\n",
    "                                    FROM control\n",
    "                            LEFT JOIN deadlines \n",
    "                            ON control.labname = deadlines.labs\n",
    "                            WHERE labname !=\"project1\"\n",
    "                            GROUP BY uid, time\n",
    "                                    )\n",
    "            GROUP BY uid\n",
    "            HAVING COUNT(uid) == 2\n",
    "                            )\n",
    "GROUP BY time\"\"\""
   ]
  },
  {
   "cell_type": "code",
   "execution_count": 8,
   "metadata": {},
   "outputs": [
    {
     "data": {
      "text/html": [
       "<div>\n",
       "<style scoped>\n",
       "    .dataframe tbody tr th:only-of-type {\n",
       "        vertical-align: middle;\n",
       "    }\n",
       "\n",
       "    .dataframe tbody tr th {\n",
       "        vertical-align: top;\n",
       "    }\n",
       "\n",
       "    .dataframe thead th {\n",
       "        text-align: right;\n",
       "    }\n",
       "</style>\n",
       "<table border=\"1\" class=\"dataframe\">\n",
       "  <thead>\n",
       "    <tr style=\"text-align: right;\">\n",
       "      <th></th>\n",
       "      <th>time</th>\n",
       "      <th>AVG( avg_diff)</th>\n",
       "    </tr>\n",
       "  </thead>\n",
       "  <tbody>\n",
       "    <tr>\n",
       "      <th>0</th>\n",
       "      <td>after</td>\n",
       "      <td>-99.322222</td>\n",
       "    </tr>\n",
       "    <tr>\n",
       "      <th>1</th>\n",
       "      <td>before</td>\n",
       "      <td>-98.033333</td>\n",
       "    </tr>\n",
       "  </tbody>\n",
       "</table>\n",
       "</div>"
      ],
      "text/plain": [
       "     time  AVG( avg_diff)\n",
       "0   after      -99.322222\n",
       "1  before      -98.033333"
      ]
     },
     "execution_count": 8,
     "metadata": {},
     "output_type": "execute_result"
    }
   ],
   "source": [
    "# Создаем датафреймы\n",
    "test_results = pd.read_sql_query(test_query, conn)\n",
    "control_results = pd.read_sql_query(control_query, conn)\n",
    "test_results\n",
    "control_results"
   ]
  },
  {
   "attachments": {},
   "cell_type": "markdown",
   "metadata": {},
   "source": [
    "## Закрой соединение с базой данных. ##\n",
    "------"
   ]
  },
  {
   "cell_type": "code",
   "execution_count": 9,
   "metadata": {},
   "outputs": [],
   "source": [
    "# Закрываем соединение\n",
    "conn.close()"
   ]
  },
  {
   "cell_type": "code",
   "execution_count": 10,
   "metadata": {},
   "outputs": [
    {
     "name": "stdout",
     "output_type": "stream",
     "text": [
      "Test results:\n",
      "     time  AVG( avg_diff)\n",
      "0   after      -99.523810\n",
      "1  before      -66.047619\n",
      "Control results:\n",
      "     time  AVG( avg_diff)\n",
      "0   after      -99.322222\n",
      "1  before      -98.033333\n"
     ]
    }
   ],
   "source": [
    "print(\"Test results:\")\n",
    "print(test_results)\n",
    "print(\"Control results:\")\n",
    "print(control_results)"
   ]
  }
 ],
 "metadata": {
  "kernelspec": {
   "display_name": "base",
   "language": "python",
   "name": "python3"
  },
  "language_info": {
   "codemirror_mode": {
    "name": "ipython",
    "version": 3
   },
   "file_extension": ".py",
   "mimetype": "text/x-python",
   "name": "python",
   "nbconvert_exporter": "python",
   "pygments_lexer": "ipython3",
   "version": "3.10.11"
  },
  "orig_nbformat": 4
 },
 "nbformat": 4,
 "nbformat_minor": 2
}
