{
 "cells": [
  {
   "attachments": {},
   "cell_type": "markdown",
   "metadata": {},
   "source": [
    "# Task 4 #\n",
    "================"
   ]
  },
  {
   "attachments": {},
   "cell_type": "markdown",
   "metadata": {},
   "source": [
    "На предыдущих этапах ты занимался просто подготовкой данных. Ты не получил никакой аналитической информации на основе имеющихся данных. Пришло время приступить к анализу. Помни, что, согласно нашему предположению, пользователи приступили бы к работе над лабораторными заданиями раньше, если бы они просмотрели ленту новостей? Это означает, что ключевой метрикой для нас является период времени (delta) между датой начала работы пользователя над лабораторным заданием (первого коммита) и сроком сдачи лабораторного задания. Мы будем смотреть на то, меняется ли она в зависимости от просмотра страницы.\n",
    "\n",
    "Что тебе нужно сделать в этом упражнении:"
   ]
  },
  {
   "cell_type": "code",
   "execution_count": 1,
   "metadata": {},
   "outputs": [],
   "source": [
    "import sqlite3\n",
    "import pandas as pd"
   ]
  },
  {
   "attachments": {},
   "cell_type": "markdown",
   "metadata": {},
   "source": [
    "## Создай соединение с базой данных с помощью библиотеки sqlite3. ##\n",
    "----------"
   ]
  },
  {
   "cell_type": "code",
   "execution_count": 2,
   "metadata": {},
   "outputs": [],
   "source": [
    "conn = sqlite3.connect(\"../data/checking-logs.sqlite\")\n",
    "cursor = conn.cursor()"
   ]
  },
  {
   "attachments": {},
   "cell_type": "markdown",
   "metadata": {},
   "source": [
    "## Получи схему таблицы test. ##\n",
    "--------"
   ]
  },
  {
   "cell_type": "code",
   "execution_count": 3,
   "metadata": {},
   "outputs": [
    {
     "name": "stdout",
     "output_type": "stream",
     "text": [
      "   cid             name       type  notnull dflt_value  pk\n",
      "0    0              uid       TEXT        0       None   0\n",
      "1    1          labname       TEXT        0       None   0\n",
      "2    2  first_commit_ts  TIMESTAMP        0       None   0\n",
      "3    3    first_view_ts  TIMESTAMP        0       None   0\n"
     ]
    }
   ],
   "source": [
    "# Получаем схему таблицы test\n",
    "schema = pd.read_sql_query(\"PRAGMA table_info(test)\", conn)\n",
    "print(schema)"
   ]
  },
  {
   "attachments": {},
   "cell_type": "markdown",
   "metadata": {},
   "source": [
    "## Получи только первые 10 строк таблицы test, чтобы проверить, как она выглядит ##\n",
    "--------"
   ]
  },
  {
   "cell_type": "code",
   "execution_count": 4,
   "metadata": {},
   "outputs": [
    {
     "name": "stdout",
     "output_type": "stream",
     "text": [
      "       uid   labname             first_commit_ts               first_view_ts\n",
      "0   user_1    laba04  2020-04-26 17:06:18.462708  2020-04-26 21:53:59.624136\n",
      "1   user_1   laba04s  2020-04-26 17:12:11.843671  2020-04-26 21:53:59.624136\n",
      "2   user_1    laba05  2020-05-02 19:15:18.540185  2020-04-26 21:53:59.624136\n",
      "3   user_1    laba06  2020-05-17 16:26:35.268534  2020-04-26 21:53:59.624136\n",
      "4   user_1   laba06s  2020-05-20 12:23:37.289724  2020-04-26 21:53:59.624136\n",
      "5   user_1  project1  2020-05-14 20:56:08.898880  2020-04-26 21:53:59.624136\n",
      "6  user_10    laba04  2020-04-25 08:24:52.696624  2020-04-18 12:19:50.182714\n",
      "7  user_10   laba04s  2020-04-25 08:37:54.604222  2020-04-18 12:19:50.182714\n",
      "8  user_10    laba05  2020-05-01 19:27:26.063245  2020-04-18 12:19:50.182714\n",
      "9  user_10    laba06  2020-05-19 11:39:28.885637  2020-04-18 12:19:50.182714\n"
     ]
    }
   ],
   "source": [
    "# Получаем первые 10 строк таблицы test\n",
    "first_10 = pd.read_sql_query(\"SELECT * FROM test LIMIT 10\", conn)\n",
    "print(first_10)"
   ]
  },
  {
   "cell_type": "code",
   "execution_count": 5,
   "metadata": {},
   "outputs": [
    {
     "name": "stdout",
     "output_type": "stream",
     "text": [
      "   index      labs   deadlines\n",
      "0      0    laba04  1587945599\n",
      "1      1   laba04s  1587945599\n",
      "2      2    laba05  1588550399\n",
      "3      4    laba06  1590364799\n",
      "4      5   laba06s  1590364799\n",
      "5      3  project1  1589673599\n"
     ]
    }
   ],
   "source": [
    "# Получаем первые 10 строк таблицы deadlines\n",
    "first_10 = pd.read_sql_query(\"SELECT * FROM deadlines LIMIT 10\", conn)\n",
    "print(first_10)"
   ]
  },
  {
   "attachments": {},
   "cell_type": "markdown",
   "metadata": {},
   "source": [
    "## Найди среди всех пользователей минимальное значение этой самой дельты (периода времени от даты первого коммита пользователя до срока сдачи соответствующего лабораторного задания), используя только один запрос. ##\n",
    "-------------"
   ]
  },
  {
   "attachments": {},
   "cell_type": "markdown",
   "metadata": {},
   "source": [
    "* Для этого сджойни данные своей таблицы с данными таблицы deadlines.\n",
    "* Период времени должен отображаться в часах.\n",
    "* Не учитывай лабораторное задание project1 с более длительным сроком сдачи, поскольку оно будет выделяться на фоне других.\n",
    "* Сохрани значение в датафрейме df_min с соответствующим uid."
   ]
  },
  {
   "cell_type": "code",
   "execution_count": 6,
   "metadata": {},
   "outputs": [
    {
     "data": {
      "text/html": [
       "<div>\n",
       "<style scoped>\n",
       "    .dataframe tbody tr th:only-of-type {\n",
       "        vertical-align: middle;\n",
       "    }\n",
       "\n",
       "    .dataframe tbody tr th {\n",
       "        vertical-align: top;\n",
       "    }\n",
       "\n",
       "    .dataframe thead th {\n",
       "        text-align: right;\n",
       "    }\n",
       "</style>\n",
       "<table border=\"1\" class=\"dataframe\">\n",
       "  <thead>\n",
       "    <tr style=\"text-align: right;\">\n",
       "      <th></th>\n",
       "      <th>uid</th>\n",
       "      <th>MIN_diff</th>\n",
       "    </tr>\n",
       "  </thead>\n",
       "  <tbody>\n",
       "    <tr>\n",
       "      <th>0</th>\n",
       "      <td>user_30</td>\n",
       "      <td>-202</td>\n",
       "    </tr>\n",
       "  </tbody>\n",
       "</table>\n",
       "</div>"
      ],
      "text/plain": [
       "       uid  MIN_diff\n",
       "0  user_30      -202"
      ]
     },
     "execution_count": 6,
     "metadata": {},
     "output_type": "execute_result"
    }
   ],
   "source": [
    "query_min = f\"\"\"SELECT s1.uid, MIN(strftime('%s', s1.first_commit_ts) - s2.deadlines)/60/60 AS MIN_diff\n",
    "            FROM (  SELECT * FROM test\n",
    "                    WHERE labname != 'project1'\n",
    "                    GROUP BY uid, labname) AS s1\n",
    "            LEFT JOIN ( SELECT *\n",
    "                        FROM deadlines )AS s2\n",
    "            ON s1.labname = s2.labs;\"\"\"\n",
    "\n",
    "# Используем метод read_sql_query библиотеки pandas для выполнения запроса и получения данных в виде DataFrame\n",
    "df_min = pd.read_sql_query(query_min, conn)\n",
    "df_min"
   ]
  },
  {
   "attachments": {},
   "cell_type": "markdown",
   "metadata": {},
   "source": [
    "## Выполни те же самые операции для максимального значения дельты, используя только один запрос. Название итогового датафрейма — df_max. ##\n",
    "--------"
   ]
  },
  {
   "cell_type": "code",
   "execution_count": 7,
   "metadata": {},
   "outputs": [
    {
     "data": {
      "text/html": [
       "<div>\n",
       "<style scoped>\n",
       "    .dataframe tbody tr th:only-of-type {\n",
       "        vertical-align: middle;\n",
       "    }\n",
       "\n",
       "    .dataframe tbody tr th {\n",
       "        vertical-align: top;\n",
       "    }\n",
       "\n",
       "    .dataframe thead th {\n",
       "        text-align: right;\n",
       "    }\n",
       "</style>\n",
       "<table border=\"1\" class=\"dataframe\">\n",
       "  <thead>\n",
       "    <tr style=\"text-align: right;\">\n",
       "      <th></th>\n",
       "      <th>uid</th>\n",
       "      <th>MAX_diff</th>\n",
       "    </tr>\n",
       "  </thead>\n",
       "  <tbody>\n",
       "    <tr>\n",
       "      <th>0</th>\n",
       "      <td>user_25</td>\n",
       "      <td>-2</td>\n",
       "    </tr>\n",
       "  </tbody>\n",
       "</table>\n",
       "</div>"
      ],
      "text/plain": [
       "       uid  MAX_diff\n",
       "0  user_25        -2"
      ]
     },
     "execution_count": 7,
     "metadata": {},
     "output_type": "execute_result"
    }
   ],
   "source": [
    "query_max = f\"\"\"SELECT s1.uid, max(strftime('%s', s1.first_commit_ts) - s2.deadlines)/60/60 AS MAX_diff\n",
    "            FROM (  SELECT * FROM test\n",
    "                    WHERE labname != 'project1'\n",
    "                    GROUP BY uid, labname) AS s1 \n",
    "            LEFT JOIN ( SELECT *\n",
    "                        FROM deadlines )AS s2 \n",
    "            ON s1.labname = s2.labs;\"\"\"\n",
    "             \n",
    "df_max = pd.read_sql_query(query_max, conn)\n",
    "df_max"
   ]
  },
  {
   "attachments": {},
   "cell_type": "markdown",
   "metadata": {},
   "source": [
    "## Выполни те же самые операции для среднего значения дельты, используя только один запрос. На этот раз ваш итоговый датафрейм не должен включать столбец uid; имя датафрейма — df_avg. ##\n",
    "--------"
   ]
  },
  {
   "cell_type": "code",
   "execution_count": 8,
   "metadata": {},
   "outputs": [
    {
     "data": {
      "text/html": [
       "<div>\n",
       "<style scoped>\n",
       "    .dataframe tbody tr th:only-of-type {\n",
       "        vertical-align: middle;\n",
       "    }\n",
       "\n",
       "    .dataframe tbody tr th {\n",
       "        vertical-align: top;\n",
       "    }\n",
       "\n",
       "    .dataframe thead th {\n",
       "        text-align: right;\n",
       "    }\n",
       "</style>\n",
       "<table border=\"1\" class=\"dataframe\">\n",
       "  <thead>\n",
       "    <tr style=\"text-align: right;\">\n",
       "      <th></th>\n",
       "      <th>avg_diff</th>\n",
       "    </tr>\n",
       "  </thead>\n",
       "  <tbody>\n",
       "    <tr>\n",
       "      <th>0</th>\n",
       "      <td>-89.125</td>\n",
       "    </tr>\n",
       "  </tbody>\n",
       "</table>\n",
       "</div>"
      ],
      "text/plain": [
       "   avg_diff\n",
       "0   -89.125"
      ]
     },
     "execution_count": 8,
     "metadata": {},
     "output_type": "execute_result"
    }
   ],
   "source": [
    "query_avg = f\"\"\"SELECT  avg((strftime('%s', s1.first_commit_ts) - s2.deadlines)/60/60) AS avg_diff\n",
    "            FROM (  SELECT * FROM test\n",
    "                    WHERE labname != 'project1'\n",
    "                    GROUP BY uid, labname) AS s1 \n",
    "            LEFT JOIN ( SELECT *\n",
    "                        FROM deadlines )AS s2 \n",
    "            ON s1.labname = s2.labs;\"\"\"\n",
    "\n",
    "df_avg = pd.read_sql_query(query_avg, conn)\n",
    "df_avg"
   ]
  },
  {
   "attachments": {},
   "cell_type": "markdown",
   "metadata": {},
   "source": [
    "## Мы хотим проверить предположение о том, что у пользователей, посетивших ленту новостей всего несколько раз, период времени между датой первого коммита и сроком сдачи лабораторного задания меньше. Для этого тебе необходимо рассчитать коэффициент корреляции между количеством просмотров страниц и разницей между датами. ##\n",
    "-------"
   ]
  },
  {
   "attachments": {},
   "cell_type": "markdown",
   "metadata": {},
   "source": [
    "* Используя только один запрос, создай таблицу со столбцами: uid, avg_diff, pageviews.\n",
    "    - uid — это uid, существующие в таблице test.\n",
    "    - avg_diff — среднее значение дельты (периода времени между датой первого коммита и сроком сдачи лабораторного задания) для каждого пользователя.\n",
    "    - pageviews — количество посещений ленты новостей одним пользователем.\n",
    "* Не учитывай лабораторное задание project1.\n",
    "* Сохрани результаты в датафрейме views_diff.\n",
    "* Используй метод corr() библиотеки Pandas для вычисления коэффициента корреляции между количеством просмотров и значением дельты."
   ]
  },
  {
   "cell_type": "code",
   "execution_count": 9,
   "metadata": {},
   "outputs": [],
   "source": [
    "query = f\"\"\"SELECT  s1.uid, s1.avg_diff , s2.pageviews\n",
    "            FROM (  SELECT test.uid, avg((strftime('%s', test.first_commit_ts) - deadlines.deadlines)/60/60) AS avg_diff\n",
    "                        FROM test \n",
    "                        LEFT JOIN deadlines \n",
    "                        on test.labname=deadlines.labs\n",
    "                        WHERE test.labname != 'project1'\n",
    "                        GROUP BY uid\n",
    "                    ) AS s1 \n",
    "            \n",
    "            LEFT  JOIN ( SELECT uid, count(*) as pageviews\n",
    "                            FROM pageviews \n",
    "                            where uid LIKE 'user_%'\n",
    "                            GROUP BY uid\n",
    "                        )AS s2 \n",
    "            ON s1.uid = s2.uid;\"\"\"\n",
    "\n",
    "views_diff = pd.read_sql_query(query, conn)"
   ]
  },
  {
   "cell_type": "code",
   "execution_count": 10,
   "metadata": {},
   "outputs": [
    {
     "data": {
      "text/html": [
       "<div>\n",
       "<style scoped>\n",
       "    .dataframe tbody tr th:only-of-type {\n",
       "        vertical-align: middle;\n",
       "    }\n",
       "\n",
       "    .dataframe tbody tr th {\n",
       "        vertical-align: top;\n",
       "    }\n",
       "\n",
       "    .dataframe thead th {\n",
       "        text-align: right;\n",
       "    }\n",
       "</style>\n",
       "<table border=\"1\" class=\"dataframe\">\n",
       "  <thead>\n",
       "    <tr style=\"text-align: right;\">\n",
       "      <th></th>\n",
       "      <th>pageviews</th>\n",
       "      <th>avg_diff</th>\n",
       "    </tr>\n",
       "  </thead>\n",
       "  <tbody>\n",
       "    <tr>\n",
       "      <th>pageviews</th>\n",
       "      <td>1.000000</td>\n",
       "      <td>-0.279736</td>\n",
       "    </tr>\n",
       "    <tr>\n",
       "      <th>avg_diff</th>\n",
       "      <td>-0.279736</td>\n",
       "      <td>1.000000</td>\n",
       "    </tr>\n",
       "  </tbody>\n",
       "</table>\n",
       "</div>"
      ],
      "text/plain": [
       "           pageviews  avg_diff\n",
       "pageviews   1.000000 -0.279736\n",
       "avg_diff   -0.279736  1.000000"
      ]
     },
     "execution_count": 10,
     "metadata": {},
     "output_type": "execute_result"
    }
   ],
   "source": [
    "# Вычисляем коэффициент корреляции\n",
    "correlation = views_diff[['pageviews','avg_diff']]\n",
    "correlation.corr()"
   ]
  },
  {
   "attachments": {},
   "cell_type": "markdown",
   "metadata": {},
   "source": [
    "## Закрой соединение с базой данных. ##\n",
    "------"
   ]
  },
  {
   "cell_type": "code",
   "execution_count": 11,
   "metadata": {},
   "outputs": [],
   "source": [
    "# Закрываем соединение\n",
    "conn.close()"
   ]
  }
 ],
 "metadata": {
  "kernelspec": {
   "display_name": "base",
   "language": "python",
   "name": "python3"
  },
  "language_info": {
   "codemirror_mode": {
    "name": "ipython",
    "version": 3
   },
   "file_extension": ".py",
   "mimetype": "text/x-python",
   "name": "python",
   "nbconvert_exporter": "python",
   "pygments_lexer": "ipython3",
   "version": "3.10.11"
  },
  "orig_nbformat": 4
 },
 "nbformat": 4,
 "nbformat_minor": 2
}
