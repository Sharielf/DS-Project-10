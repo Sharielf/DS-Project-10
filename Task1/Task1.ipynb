{
 "cells": [
  {
   "attachments": {},
   "cell_type": "markdown",
   "id": "343f1669",
   "metadata": {},
   "source": [
    "# Task 1 #\n"
   ]
  },
  {
   "attachments": {},
   "cell_type": "markdown",
   "id": "e44b70ab",
   "metadata": {},
   "source": [
    "А теперь давай усложним задачу.Ты знаешь, что такое подзапрос? Это как запрос, но только внутри запроса. Чем он может быть полезен? Например, с его помощью можно сделать определенную агрегацию для выбранных данных. Однако следует помнить, что в первую очередь выполняются вложенные запросы, и только после этого — основной запрос.\n",
    "\n",
    "Что тебе нужно сделать:"
   ]
  },
  {
   "cell_type": "code",
   "execution_count": 1,
   "metadata": {},
   "outputs": [],
   "source": [
    "import sqlite3\n",
    "import pandas as pd\n"
   ]
  },
  {
   "attachments": {},
   "cell_type": "markdown",
   "id": "4bfaf1d6",
   "metadata": {},
   "source": [
    "## Создай соединение с базой данных с помощью библиотеки sqlite3. ##\n",
    "----------"
   ]
  },
  {
   "cell_type": "code",
   "execution_count": 2,
   "id": "d81b8165",
   "metadata": {},
   "outputs": [],
   "source": [
    "# создание подключения к базе данных\n",
    "conn = sqlite3.connect('../data/checking-logs.sqlite')"
   ]
  },
  {
   "attachments": {},
   "cell_type": "markdown",
   "id": "9e7d41fc",
   "metadata": {},
   "source": [
    "## Получи схему таблицы pageviews с помощью pd.io.sql.read_sql и запроса PRAGMA table_info(pageviews); ##\n",
    "----------"
   ]
  },
  {
   "cell_type": "code",
   "execution_count": 3,
   "id": "11236cdf",
   "metadata": {},
   "outputs": [
    {
     "name": "stdout",
     "output_type": "stream",
     "text": [
      "   cid      name       type  notnull dflt_value  pk\n",
      "0    0     index    INTEGER        0       None   0\n",
      "1    1       uid       TEXT        0       None   0\n",
      "2    2  datetime  TIMESTAMP        0       None   0\n"
     ]
    }
   ],
   "source": [
    "# Получаем схему таблицы pageviews\n",
    "schema = pd.io.sql.read_sql(\"PRAGMA table_info(pageviews);\", conn)\n",
    "print(schema)"
   ]
  },
  {
   "attachments": {},
   "cell_type": "markdown",
   "id": "faf65e32",
   "metadata": {},
   "source": [
    "## Получи только первые 10 строк таблицы pageviews, чтобы проверить, как она выглядит. ##\n",
    "------"
   ]
  },
  {
   "cell_type": "code",
   "execution_count": 4,
   "id": "9a6cbaa9",
   "metadata": {},
   "outputs": [
    {
     "name": "stdout",
     "output_type": "stream",
     "text": [
      "   index      uid                    datetime\n",
      "0      0  admin_1  2020-04-17 12:01:08.463179\n",
      "1      1  admin_1  2020-04-17 12:01:23.743946\n",
      "2      2  admin_3  2020-04-17 12:17:39.287778\n",
      "3      3  admin_3  2020-04-17 12:17:40.001768\n",
      "4      4  admin_1  2020-04-17 12:27:30.646665\n",
      "5      5  admin_1  2020-04-17 12:35:44.884757\n",
      "6      6  admin_1  2020-04-17 12:35:52.735016\n",
      "7      7  admin_3  2020-04-17 12:36:21.401412\n",
      "8      8  admin_3  2020-04-17 12:36:22.023355\n",
      "9      9  admin_1  2020-04-17 13:55:19.129243\n"
     ]
    }
   ],
   "source": [
    "# Получаем только первые 10 строк таблицы pageviews\n",
    "pageviews = pd.io.sql.read_sql(\"SELECT * FROM pageviews LIMIT 10;\", conn)\n",
    "print(pageviews)"
   ]
  },
  {
   "attachments": {},
   "cell_type": "markdown",
   "id": "cd1d314b",
   "metadata": {},
   "source": [
    "## Получи подтаблицу с помощью только одного запроса ##\n",
    "--------"
   ]
  },
  {
   "attachments": {},
   "cell_type": "markdown",
   "id": "351a3560",
   "metadata": {},
   "source": [
    "* используются только uid и datetime;\n",
    "* используются только данные пользователей (user_*), и не используются данные администраторов;\n",
    "* сортировка выполняется по uid в порядке возрастания;\n",
    "* столбец индекса — это datetime;\n",
    "* datetime преобразован в DatetimeIndex;\n",
    "* имя датафрейма — pageviews."
   ]
  },
  {
   "cell_type": "code",
   "execution_count": 5,
   "id": "c35b3b9f",
   "metadata": {},
   "outputs": [
    {
     "name": "stdout",
     "output_type": "stream",
     "text": [
      "                                uid\n",
      "datetime                           \n",
      "2020-04-26 21:53:59.624136   user_1\n",
      "2020-04-26 22:06:19.478143   user_1\n",
      "2020-04-26 22:12:09.614497   user_1\n",
      "2020-04-30 19:29:01.831635   user_1\n",
      "2020-05-05 20:26:32.894852   user_1\n",
      "...                             ...\n",
      "2020-04-29 16:51:21.877630  user_30\n",
      "2020-05-09 20:30:47.034282  user_30\n",
      "2020-05-22 11:30:18.368990   user_5\n",
      "2020-05-21 16:28:28.217529   user_9\n",
      "2020-05-21 16:36:40.915488   user_9\n",
      "\n",
      "[987 rows x 1 columns]\n"
     ]
    }
   ],
   "source": [
    "# Получаем подтаблицу с нужными полями и условиями\n",
    "pageviews = pd.io.sql.read_sql(\"SELECT uid, datetime FROM pageviews WHERE uid LIKE 'user_%' AND uid NOT LIKE 'admin_%' ORDER BY uid ASC;\", \n",
    "                               conn, index_col='datetime', parse_dates=['datetime'])\n",
    "print(pageviews)"
   ]
  },
  {
   "attachments": {},
   "cell_type": "markdown",
   "id": "a3fe5914",
   "metadata": {},
   "source": [
    "## Для проверки"
   ]
  },
  {
   "cell_type": "code",
   "execution_count": 6,
   "id": "55360f56",
   "metadata": {},
   "outputs": [
    {
     "name": "stdout",
     "output_type": "stream",
     "text": [
      "<class 'pandas.core.frame.DataFrame'>\n",
      "DatetimeIndex: 987 entries, 2020-04-26 21:53:59.624136 to 2020-05-21 16:36:40.915488\n",
      "Data columns (total 1 columns):\n",
      " #   Column  Non-Null Count  Dtype \n",
      "---  ------  --------------  ----- \n",
      " 0   uid     987 non-null    object\n",
      "dtypes: object(1)\n",
      "memory usage: 15.4+ KB\n"
     ]
    }
   ],
   "source": [
    "pageviews.info()"
   ]
  },
  {
   "attachments": {},
   "cell_type": "markdown",
   "id": "28de82d9",
   "metadata": {},
   "source": [
    "## Закрой соединение с базой данных. ##\n",
    "------"
   ]
  },
  {
   "cell_type": "code",
   "execution_count": 7,
   "id": "a18c3f83",
   "metadata": {},
   "outputs": [],
   "source": [
    "conn.close()"
   ]
  }
 ],
 "metadata": {
  "kernelspec": {
   "display_name": "base",
   "language": "python",
   "name": "python3"
  },
  "language_info": {
   "codemirror_mode": {
    "name": "ipython",
    "version": 3
   },
   "file_extension": ".py",
   "mimetype": "text/x-python",
   "name": "python",
   "nbconvert_exporter": "python",
   "pygments_lexer": "ipython3",
   "version": "3.10.11"
  }
 },
 "nbformat": 4,
 "nbformat_minor": 5
}
