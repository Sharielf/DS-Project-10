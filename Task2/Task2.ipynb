{
 "cells": [
  {
   "attachments": {},
   "cell_type": "markdown",
   "metadata": {},
   "source": [
    "# Task 2 #\n",
    "=========="
   ]
  },
  {
   "cell_type": "code",
   "execution_count": 1,
   "metadata": {},
   "outputs": [],
   "source": [
    "# Импортируем библиотеки\n",
    "import sqlite3\n",
    "import pandas as pd"
   ]
  },
  {
   "attachments": {},
   "cell_type": "markdown",
   "metadata": {},
   "source": [
    "## Создай соединение с базой данных с помощью библиотеки sqlite3. ##\n",
    "----------"
   ]
  },
  {
   "cell_type": "code",
   "execution_count": 2,
   "metadata": {},
   "outputs": [],
   "source": [
    "# Создаем соединение с базой данных\n",
    "conn = sqlite3.connect(\"../data/checking-logs.sqlite\")"
   ]
  },
  {
   "attachments": {},
   "cell_type": "markdown",
   "metadata": {},
   "source": [
    "## Получи схему таблицы checker. ##\n",
    "------"
   ]
  },
  {
   "cell_type": "code",
   "execution_count": 3,
   "metadata": {},
   "outputs": [
    {
     "name": "stdout",
     "output_type": "stream",
     "text": [
      "   cid       name       type  notnull dflt_value  pk\n",
      "0    0      index    INTEGER        0       None   0\n",
      "1    1     status       TEXT        0       None   0\n",
      "2    2    success    INTEGER        0       None   0\n",
      "3    3  timestamp  TIMESTAMP        0       None   0\n",
      "4    4  numTrials    INTEGER        0       None   0\n",
      "5    5    labname       TEXT        0       None   0\n",
      "6    6        uid       TEXT        0       None   0\n"
     ]
    }
   ],
   "source": [
    "# Получаем схему таблицы checker\n",
    "checker_schema = pd.io.sql.read_sql('PRAGMA table_info(checker);', conn)\n",
    "print(checker_schema)"
   ]
  },
  {
   "attachments": {},
   "cell_type": "markdown",
   "metadata": {},
   "source": [
    "## Получи только первые 10 строк таблицы checker, чтобы проверить, как она выглядит. ##\n",
    "-----"
   ]
  },
  {
   "cell_type": "code",
   "execution_count": 4,
   "metadata": {},
   "outputs": [
    {
     "name": "stdout",
     "output_type": "stream",
     "text": [
      "   index    status  success                   timestamp  numTrials   labname  \\\n",
      "0      0  checking        0  2020-04-16 21:12:50.740474          5      None   \n",
      "1      1     ready        0  2020-04-16 21:12:54.708365          5  code_rvw   \n",
      "2      2  checking        0  2020-04-16 21:46:47.769088          7      None   \n",
      "3      3     ready        0  2020-04-16 21:46:48.121217          7     lab02   \n",
      "4      4  checking        0  2020-04-16 21:53:01.862637          6  code_rvw   \n",
      "5      5     ready        0  2020-04-16 21:53:05.373389          6  code_rvw   \n",
      "6      6  checking        0  2020-04-17 05:18:51.965864          1      None   \n",
      "7      7     ready        0  2020-04-17 05:19:02.744528          1  project1   \n",
      "8      8  checking        0  2020-04-17 05:22:35.249331          2  project1   \n",
      "9      9     ready        1  2020-04-17 05:22:45.549397          2  project1   \n",
      "\n",
      "       uid  \n",
      "0  admin_1  \n",
      "1  admin_1  \n",
      "2  admin_1  \n",
      "3  admin_1  \n",
      "4  admin_1  \n",
      "5  admin_1  \n",
      "6     None  \n",
      "7   user_4  \n",
      "8   user_4  \n",
      "9   user_4  \n"
     ]
    }
   ],
   "source": [
    "# Получаем только первые 10 строк таблицы checker\n",
    "checker_first_10 = pd.read_sql('SELECT * FROM checker LIMIT 10;', conn)\n",
    "print(checker_first_10)"
   ]
  },
  {
   "attachments": {},
   "cell_type": "markdown",
   "metadata": {},
   "source": [
    "## Подсчитай, сколько строк удовлетворяют следующим условиям, используя только один запрос с любым количеством подзапросов ##\n",
    "-----"
   ]
  },
  {
   "attachments": {},
   "cell_type": "markdown",
   "metadata": {},
   "source": [
    "* Подсчитай количество строк из таблицы pageviews, но только с пользователями из таблицы checker, у которых:\n",
    "    - status = 'ready' (мы не хотим анализировать логи со статусом checking);\n",
    "    - numTrials = 1 (мы хотим проанализировать только первые коммиты, поскольку только они информируют о том, когда студент начал работать над лабораторным заданием);\n",
    "    - названия лабораторных заданий должны быть только из следующего списка: laba04, laba04s, laba05, laba06, laba06s, project1. Только они были активными во время проведения эксперимента.\n",
    "* Сохрани их в датафрейме checkers в столбце cnt. Датафрейм будет представлять собой только одну ячейку."
   ]
  },
  {
   "cell_type": "code",
   "execution_count": 5,
   "metadata": {},
   "outputs": [],
   "source": [
    "# Подсчитываем количество строк из таблицы pageviews с учетом условий задания\n",
    "cnt_query = '''\n",
    "SELECT COUNT(*) as cnt FROM pageviews\n",
    "WHERE uid IN \n",
    "    (SELECT DISTINCT uid FROM checker \n",
    "     WHERE status = 'ready' AND numTrials = 1 \n",
    "     AND labname IN ('laba04', 'laba04s', 'laba05', 'laba06', 'laba06s', 'project1')\n",
    "    );\n",
    "'''"
   ]
  },
  {
   "attachments": {},
   "cell_type": "markdown",
   "metadata": {},
   "source": [
    "### Для проверки"
   ]
  },
  {
   "cell_type": "code",
   "execution_count": 6,
   "metadata": {},
   "outputs": [
    {
     "name": "stdout",
     "output_type": "stream",
     "text": [
      "   cnt\n",
      "0  985\n"
     ]
    }
   ],
   "source": [
    "checkers = pd.read_sql(cnt_query, conn)\n",
    "print(checkers)"
   ]
  },
  {
   "attachments": {},
   "cell_type": "markdown",
   "metadata": {},
   "source": [
    "## Закрой соединение с базой данных. ##\n",
    "------"
   ]
  },
  {
   "cell_type": "code",
   "execution_count": 7,
   "metadata": {},
   "outputs": [],
   "source": [
    "conn.close()"
   ]
  }
 ],
 "metadata": {
  "kernelspec": {
   "display_name": "base",
   "language": "python",
   "name": "python3"
  },
  "language_info": {
   "codemirror_mode": {
    "name": "ipython",
    "version": 3
   },
   "file_extension": ".py",
   "mimetype": "text/x-python",
   "name": "python",
   "nbconvert_exporter": "python",
   "pygments_lexer": "ipython3",
   "version": "3.10.11"
  },
  "orig_nbformat": 4
 },
 "nbformat": 4,
 "nbformat_minor": 2
}
