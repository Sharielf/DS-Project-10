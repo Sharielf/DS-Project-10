{
 "cells": [
  {
   "attachments": {},
   "cell_type": "markdown",
   "metadata": {},
   "source": [
    "# Task 3 #\n",
    "==============="
   ]
  },
  {
   "attachments": {},
   "cell_type": "markdown",
   "metadata": {},
   "source": [
    "В этом упражнении ты создашь так называемую витрину данных. Она представляет собой таблицу, которую можно использовать для аналитических целей. Обычно она создается путем объединения нескольких отдельных таблиц. В этом упражнении мы будем собирать различные данные о наших пользователях: когда они сделали свои первые коммиты, когда они впервые посетили ленту новостей и т. д. Это поможет позднее выполнить анализ данных.\n",
    "\n",
    "Что тебе нужно сделать в этом упражнении (ознакомься с полным описанием задания):"
   ]
  },
  {
   "cell_type": "code",
   "execution_count": 1,
   "metadata": {},
   "outputs": [],
   "source": [
    "# Импортируем библиотеки\n",
    "import sqlite3\n",
    "import pandas as pd"
   ]
  },
  {
   "attachments": {},
   "cell_type": "markdown",
   "metadata": {},
   "source": [
    "## Создай соединение с базой данных с помощью библиотеки sqlite3. ##\n",
    "----------"
   ]
  },
  {
   "cell_type": "code",
   "execution_count": 2,
   "metadata": {},
   "outputs": [],
   "source": [
    "# Создание соединения с БД\n",
    "conn = sqlite3.connect(\"../data/checking-logs.sqlite\")\n"
   ]
  },
  {
   "cell_type": "code",
   "execution_count": 3,
   "metadata": {},
   "outputs": [
    {
     "name": "stdout",
     "output_type": "stream",
     "text": [
      "(0, 'index', 'INTEGER', 0, None, 0)\n",
      "(1, 'uid', 'TEXT', 0, None, 0)\n",
      "(2, 'datetime', 'TIMESTAMP', 0, None, 0)\n"
     ]
    },
    {
     "data": {
      "text/plain": [
       "[None, None, None]"
      ]
     },
     "execution_count": 3,
     "metadata": {},
     "output_type": "execute_result"
    }
   ],
   "source": [
    "cur_p = conn.cursor()\n",
    "cur_p.execute(\"PRAGMA table_info(pageviews);\")\n",
    "[print(c) for c in cur_p.fetchall()] #вывод названия колонок pageviews"
   ]
  },
  {
   "cell_type": "code",
   "execution_count": 4,
   "metadata": {},
   "outputs": [
    {
     "name": "stdout",
     "output_type": "stream",
     "text": [
      "(0, 'index', 'INTEGER', 0, None, 0)\n",
      "(1, 'status', 'TEXT', 0, None, 0)\n",
      "(2, 'success', 'INTEGER', 0, None, 0)\n",
      "(3, 'timestamp', 'TIMESTAMP', 0, None, 0)\n",
      "(4, 'numTrials', 'INTEGER', 0, None, 0)\n",
      "(5, 'labname', 'TEXT', 0, None, 0)\n",
      "(6, 'uid', 'TEXT', 0, None, 0)\n"
     ]
    },
    {
     "data": {
      "text/plain": [
       "[None, None, None, None, None, None, None]"
      ]
     },
     "execution_count": 4,
     "metadata": {},
     "output_type": "execute_result"
    }
   ],
   "source": [
    "cur_c = conn.cursor()\n",
    "cur_c.execute(\"PRAGMA table_info(checker);\")\n",
    "[print(c) for c in cur_c.fetchall()] #вывод названия колонок checker\n"
   ]
  },
  {
   "attachments": {},
   "cell_type": "markdown",
   "metadata": {},
   "source": [
    "## Создай новую таблицу datamart в базе данных, объединив таблицы pageviews и checker с помощью только одного запроса. ##\n",
    "---------"
   ]
  },
  {
   "attachments": {},
   "cell_type": "markdown",
   "metadata": {},
   "source": [
    "* Таблица должна содержать следующие столбцы: uid, labname, first_commit_ts, first_view_ts.\n",
    "* first_commit_ts — это просто новое имя для столбца timestamp из таблицы checker; он показывает первый коммит конкретного лабораторного задания конкретного пользователя.\n",
    "* first_view_ts — первое посещение пользователем из таблицы pageviews, метка времени посещения пользователем ленты новостей.\n",
    "* По-прежнему нужно использовать фильтр status = 'ready'.\n",
    "* По-прежнему нужно использовать фильтр numTrials = 1.\n",
    "* Имена лабораторных заданий по-прежнему должны быть из следующего списка: laba04, laba04s, laba05, laba06, laba06s, project1.\n",
    "* Таблица должна содержать только пользователей (uid с user_*), а не администраторов.\n",
    "* first_commit_ts и first_view_ts должны быть распарсены как datetime64[ns]."
   ]
  },
  {
   "cell_type": "code",
   "execution_count": 5,
   "metadata": {},
   "outputs": [
    {
     "data": {
      "text/html": [
       "<div>\n",
       "<style scoped>\n",
       "    .dataframe tbody tr th:only-of-type {\n",
       "        vertical-align: middle;\n",
       "    }\n",
       "\n",
       "    .dataframe tbody tr th {\n",
       "        vertical-align: top;\n",
       "    }\n",
       "\n",
       "    .dataframe thead th {\n",
       "        text-align: right;\n",
       "    }\n",
       "</style>\n",
       "<table border=\"1\" class=\"dataframe\">\n",
       "  <thead>\n",
       "    <tr style=\"text-align: right;\">\n",
       "      <th></th>\n",
       "      <th>uid</th>\n",
       "      <th>labname</th>\n",
       "      <th>first_commit_ts</th>\n",
       "      <th>first_view_ts</th>\n",
       "    </tr>\n",
       "  </thead>\n",
       "  <tbody>\n",
       "    <tr>\n",
       "      <th>0</th>\n",
       "      <td>user_1</td>\n",
       "      <td>laba04</td>\n",
       "      <td>2020-04-26 17:06:18.462708</td>\n",
       "      <td>2020-04-26 21:53:59.624136</td>\n",
       "    </tr>\n",
       "    <tr>\n",
       "      <th>1</th>\n",
       "      <td>user_1</td>\n",
       "      <td>laba04s</td>\n",
       "      <td>2020-04-26 17:12:11.843671</td>\n",
       "      <td>2020-04-26 21:53:59.624136</td>\n",
       "    </tr>\n",
       "    <tr>\n",
       "      <th>2</th>\n",
       "      <td>user_1</td>\n",
       "      <td>laba05</td>\n",
       "      <td>2020-05-02 19:15:18.540185</td>\n",
       "      <td>2020-04-26 21:53:59.624136</td>\n",
       "    </tr>\n",
       "    <tr>\n",
       "      <th>3</th>\n",
       "      <td>user_1</td>\n",
       "      <td>laba06</td>\n",
       "      <td>2020-05-17 16:26:35.268534</td>\n",
       "      <td>2020-04-26 21:53:59.624136</td>\n",
       "    </tr>\n",
       "    <tr>\n",
       "      <th>4</th>\n",
       "      <td>user_1</td>\n",
       "      <td>laba06s</td>\n",
       "      <td>2020-05-20 12:23:37.289724</td>\n",
       "      <td>2020-04-26 21:53:59.624136</td>\n",
       "    </tr>\n",
       "    <tr>\n",
       "      <th>...</th>\n",
       "      <td>...</td>\n",
       "      <td>...</td>\n",
       "      <td>...</td>\n",
       "      <td>...</td>\n",
       "    </tr>\n",
       "    <tr>\n",
       "      <th>135</th>\n",
       "      <td>user_8</td>\n",
       "      <td>laba04s</td>\n",
       "      <td>2020-04-19 10:22:35.761944</td>\n",
       "      <td>NaT</td>\n",
       "    </tr>\n",
       "    <tr>\n",
       "      <th>136</th>\n",
       "      <td>user_8</td>\n",
       "      <td>laba05</td>\n",
       "      <td>2020-05-02 13:28:07.705193</td>\n",
       "      <td>NaT</td>\n",
       "    </tr>\n",
       "    <tr>\n",
       "      <th>137</th>\n",
       "      <td>user_8</td>\n",
       "      <td>laba06</td>\n",
       "      <td>2020-05-16 17:56:15.755553</td>\n",
       "      <td>NaT</td>\n",
       "    </tr>\n",
       "    <tr>\n",
       "      <th>138</th>\n",
       "      <td>user_8</td>\n",
       "      <td>laba06s</td>\n",
       "      <td>2020-05-16 20:01:07.900727</td>\n",
       "      <td>NaT</td>\n",
       "    </tr>\n",
       "    <tr>\n",
       "      <th>139</th>\n",
       "      <td>user_8</td>\n",
       "      <td>project1</td>\n",
       "      <td>2020-05-14 15:42:04.002981</td>\n",
       "      <td>NaT</td>\n",
       "    </tr>\n",
       "  </tbody>\n",
       "</table>\n",
       "<p>140 rows × 4 columns</p>\n",
       "</div>"
      ],
      "text/plain": [
       "        uid   labname            first_commit_ts              first_view_ts\n",
       "0    user_1    laba04 2020-04-26 17:06:18.462708 2020-04-26 21:53:59.624136\n",
       "1    user_1   laba04s 2020-04-26 17:12:11.843671 2020-04-26 21:53:59.624136\n",
       "2    user_1    laba05 2020-05-02 19:15:18.540185 2020-04-26 21:53:59.624136\n",
       "3    user_1    laba06 2020-05-17 16:26:35.268534 2020-04-26 21:53:59.624136\n",
       "4    user_1   laba06s 2020-05-20 12:23:37.289724 2020-04-26 21:53:59.624136\n",
       "..      ...       ...                        ...                        ...\n",
       "135  user_8   laba04s 2020-04-19 10:22:35.761944                        NaT\n",
       "136  user_8    laba05 2020-05-02 13:28:07.705193                        NaT\n",
       "137  user_8    laba06 2020-05-16 17:56:15.755553                        NaT\n",
       "138  user_8   laba06s 2020-05-16 20:01:07.900727                        NaT\n",
       "139  user_8  project1 2020-05-14 15:42:04.002981                        NaT\n",
       "\n",
       "[140 rows x 4 columns]"
      ]
     },
     "execution_count": 5,
     "metadata": {},
     "output_type": "execute_result"
    }
   ],
   "source": [
    "Request = f\"\"\"SELECT s1.uid, s1.labname, s1.first_commit_ts, s2.first_view_ts\n",
    "FROM (SELECT uid, labname, timestamp AS first_commit_ts FROM checker\n",
    "WHERE uid LIKE 'user_%'\n",
    "AND status = 'ready'\n",
    "AND numTrials = 1\n",
    "AND labname IN ('laba04', 'laba04s', 'laba05', 'laba06', 'laba06s', 'project1')\n",
    "GROUP BY uid, labname) AS s1 LEFT JOIN (SELECT uid, MIN(datetime) AS first_view_ts\n",
    "FROM pageviews\n",
    "WHERE uid LIKE 'user_%'\n",
    "GROUP BY uid)\n",
    "AS s2 ON s1.uid = s2.uid;\"\"\"\n",
    "\n",
    "Datamart = pd.io.sql.read_sql(Request, conn,  parse_dates=['first_commit_ts','first_view_ts'])\n",
    "Datamart.to_sql('datamart', conn, if_exists='replace',index=False)\n",
    "\n",
    "Datamart "
   ]
  },
  {
   "attachments": {},
   "cell_type": "markdown",
   "metadata": {},
   "source": [
    "### Для проверки"
   ]
  },
  {
   "cell_type": "code",
   "execution_count": 6,
   "metadata": {},
   "outputs": [
    {
     "name": "stdout",
     "output_type": "stream",
     "text": [
      "<class 'pandas.core.frame.DataFrame'>\n",
      "RangeIndex: 140 entries, 0 to 139\n",
      "Data columns (total 4 columns):\n",
      " #   Column           Non-Null Count  Dtype         \n",
      "---  ------           --------------  -----         \n",
      " 0   uid              140 non-null    object        \n",
      " 1   labname          140 non-null    object        \n",
      " 2   first_commit_ts  140 non-null    datetime64[ns]\n",
      " 3   first_view_ts    59 non-null     datetime64[ns]\n",
      "dtypes: datetime64[ns](2), object(2)\n",
      "memory usage: 4.5+ KB\n"
     ]
    }
   ],
   "source": [
    "Datamart.info()"
   ]
  },
  {
   "attachments": {},
   "cell_type": "markdown",
   "metadata": {},
   "source": [
    "## Используя методы библиотеки Pandas, создай два датафрейма: test и control ##\n",
    "-----"
   ]
  },
  {
   "attachments": {},
   "cell_type": "markdown",
   "metadata": {},
   "source": [
    "* test должен включать пользователей, у которых имеются значения в first_view_ts.\n",
    "* control должен включать пользователей, у которых отсутствуют значения в first_view_ts.\n",
    "* Замени пропущенные значения в control средним значением first_view_ts пользователей из test (оно пригодится нам для анализа в будущем).\n",
    "* Сохрани обе таблицы в базе данных (вы будете использовать их в следующих упражнениях)."
   ]
  },
  {
   "cell_type": "code",
   "execution_count": 7,
   "metadata": {},
   "outputs": [
    {
     "name": "stderr",
     "output_type": "stream",
     "text": [
      "C:\\Users\\evpet\\AppData\\Local\\Temp\\ipykernel_8896\\2316892635.py:5: SettingWithCopyWarning: \n",
      "A value is trying to be set on a copy of a slice from a DataFrame\n",
      "\n",
      "See the caveats in the documentation: https://pandas.pydata.org/pandas-docs/stable/user_guide/indexing.html#returning-a-view-versus-a-copy\n",
      "  control['first_view_ts'].fillna(mean_first_view_ts, inplace=True)\n"
     ]
    },
    {
     "data": {
      "text/plain": [
       "59"
      ]
     },
     "execution_count": 7,
     "metadata": {},
     "output_type": "execute_result"
    }
   ],
   "source": [
    "test = Datamart[Datamart[\"first_view_ts\"].notnull()]\n",
    "control = Datamart[Datamart[\"first_view_ts\"].isnull()]\n",
    "\n",
    "mean_first_view_ts = test['first_view_ts'].mean()\n",
    "control['first_view_ts'].fillna(mean_first_view_ts, inplace=True)\n",
    "\n",
    "control.to_sql('control', conn, if_exists='replace',index=False)\n",
    "test.to_sql('test', conn, if_exists='replace',index=False)"
   ]
  },
  {
   "attachments": {},
   "cell_type": "markdown",
   "metadata": {},
   "source": [
    "### Для проверки"
   ]
  },
  {
   "cell_type": "code",
   "execution_count": 8,
   "metadata": {},
   "outputs": [
    {
     "name": "stdout",
     "output_type": "stream",
     "text": [
      "<class 'pandas.core.frame.DataFrame'>\n",
      "Index: 59 entries, 0 to 114\n",
      "Data columns (total 4 columns):\n",
      " #   Column           Non-Null Count  Dtype         \n",
      "---  ------           --------------  -----         \n",
      " 0   uid              59 non-null     object        \n",
      " 1   labname          59 non-null     object        \n",
      " 2   first_commit_ts  59 non-null     datetime64[ns]\n",
      " 3   first_view_ts    59 non-null     datetime64[ns]\n",
      "dtypes: datetime64[ns](2), object(2)\n",
      "memory usage: 2.3+ KB\n"
     ]
    }
   ],
   "source": [
    "test.info()\n"
   ]
  },
  {
   "cell_type": "code",
   "execution_count": 9,
   "metadata": {},
   "outputs": [
    {
     "name": "stdout",
     "output_type": "stream",
     "text": [
      "<class 'pandas.core.frame.DataFrame'>\n",
      "Index: 81 entries, 12 to 139\n",
      "Data columns (total 4 columns):\n",
      " #   Column           Non-Null Count  Dtype         \n",
      "---  ------           --------------  -----         \n",
      " 0   uid              81 non-null     object        \n",
      " 1   labname          81 non-null     object        \n",
      " 2   first_commit_ts  81 non-null     datetime64[ns]\n",
      " 3   first_view_ts    81 non-null     datetime64[ns]\n",
      "dtypes: datetime64[ns](2), object(2)\n",
      "memory usage: 3.2+ KB\n"
     ]
    }
   ],
   "source": [
    "control.info()"
   ]
  },
  {
   "attachments": {},
   "cell_type": "markdown",
   "metadata": {},
   "source": [
    "## Закрой соединение с базой данных. ##\n",
    "------"
   ]
  },
  {
   "cell_type": "code",
   "execution_count": 10,
   "metadata": {},
   "outputs": [],
   "source": [
    "# Закрытие соединения с базой данных\n",
    "conn.close()"
   ]
  },
  {
   "attachments": {},
   "cell_type": "markdown",
   "metadata": {},
   "source": [
    "### Для проверки:"
   ]
  },
  {
   "cell_type": "code",
   "execution_count": 11,
   "metadata": {},
   "outputs": [],
   "source": [
    "# Открываем соединение с БД\n",
    "conn = sqlite3.connect(\"../data/checking-logs.sqlite\")\n",
    "test = pd.io.sql.read_sql('SELECT * FROM test', conn)\n",
    "#test"
   ]
  },
  {
   "cell_type": "code",
   "execution_count": 12,
   "metadata": {},
   "outputs": [],
   "source": [
    "# Закрытие соединения с базой данных\n",
    "conn.close()"
   ]
  },
  {
   "cell_type": "code",
   "execution_count": 13,
   "metadata": {},
   "outputs": [],
   "source": [
    "#Открываем соединение с БД\n",
    "conn = sqlite3.connect(\"../data/checking-logs.sqlite\")\n",
    "control = pd.io.sql.read_sql('SELECT * FROM control', conn)\n",
    "#control "
   ]
  },
  {
   "cell_type": "code",
   "execution_count": 14,
   "metadata": {},
   "outputs": [],
   "source": [
    "# Закрытие соединения с базой данных\n",
    "conn.close()"
   ]
  }
 ],
 "metadata": {
  "kernelspec": {
   "display_name": "Python 3 (ipykernel)",
   "language": "python",
   "name": "python3"
  },
  "language_info": {
   "codemirror_mode": {
    "name": "ipython",
    "version": 3
   },
   "file_extension": ".py",
   "mimetype": "text/x-python",
   "name": "python",
   "nbconvert_exporter": "python",
   "pygments_lexer": "ipython3",
   "version": "3.10.11"
  }
 },
 "nbformat": 4,
 "nbformat_minor": 2
}
